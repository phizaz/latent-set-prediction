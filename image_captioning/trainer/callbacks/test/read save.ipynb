{
 "cells": [
  {
   "cell_type": "code",
   "execution_count": 1,
   "metadata": {},
   "outputs": [],
   "source": [
    "from mlkit.start import *"
   ]
  },
  {
   "cell_type": "code",
   "execution_count": 3,
   "metadata": {},
   "outputs": [
    {
     "data": {
      "text/plain": [
       "{'self': {'hist': defaultdict(list,\n",
       "              {'i_itr': [0, 1, 2, 3, 4, 5, 6, 7, 8, 9],\n",
       "               'loss': [2.277305841445923,\n",
       "                2.2557220458984375,\n",
       "                2.1985702514648438,\n",
       "                2.162536144256592,\n",
       "                2.122777986526489,\n",
       "                2.096040407816569,\n",
       "                2.0743321861539568,\n",
       "                2.0461126565933228,\n",
       "                2.001903944545322,\n",
       "                1.959591019153595],\n",
       "               'acc': [0.0625,\n",
       "                0.140625,\n",
       "                0.20833333333333334,\n",
       "                0.234375,\n",
       "                0.275,\n",
       "                0.2916666666666667,\n",
       "                0.29910714285714285,\n",
       "                0.3203125,\n",
       "                0.3472222222222222,\n",
       "                0.371875]})}}"
      ]
     },
     "execution_count": 3,
     "metadata": {},
     "output_type": "execute_result"
    }
   ],
   "source": [
    "path = f'save/callbacks/MovingAvgCb_0.pkl'\n",
    "torch.load(path)"
   ]
  },
  {
   "cell_type": "code",
   "execution_count": 4,
   "metadata": {},
   "outputs": [
    {
     "data": {
      "text/plain": [
       "{'self': {'hist': defaultdict(list, {'i_itr': []})}}"
      ]
     },
     "execution_count": 4,
     "metadata": {},
     "output_type": "execute_result"
    }
   ],
   "source": [
    "path = f'{MLKIT_PATH}/tmp/adaptive_grad_fmnist_paper_cnn/adaptive_grad_cnn_adam(0.9,0.999)lr0.003_bs4/resume0/callbacks/MovingAvgCb_0.pkl'\n",
    "torch.load(path)"
   ]
  }
 ],
 "metadata": {
  "kernelspec": {
   "display_name": "Python [conda env:root] *",
   "language": "python",
   "name": "conda-root-py"
  },
  "language_info": {
   "codemirror_mode": {
    "name": "ipython",
    "version": 3
   },
   "file_extension": ".py",
   "mimetype": "text/x-python",
   "name": "python",
   "nbconvert_exporter": "python",
   "pygments_lexer": "ipython3",
   "version": "3.7.3"
  }
 },
 "nbformat": 4,
 "nbformat_minor": 4
}
