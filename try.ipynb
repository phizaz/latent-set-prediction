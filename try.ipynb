{
 "cells": [
  {
   "cell_type": "code",
   "execution_count": 1,
   "metadata": {},
   "outputs": [],
   "source": [
    "import torch\n",
    "from torch import optim\n",
    "from lsp import *"
   ]
  },
  {
   "cell_type": "code",
   "execution_count": 320,
   "metadata": {},
   "outputs": [],
   "source": [
    "N = 5\n",
    "S = torch.randn(N, 2, requires_grad=True)\n",
    "len_S = torch.tensor([N])\n",
    "G = torch.randn(N, 2, requires_grad=True)\n",
    "len_G = torch.tensor([N])\n",
    "Y = torch.randn(N, 2)\n",
    "\n",
    "opt = optim.SGD([S, G], lr=1)\n",
    "\n",
    "loss_fn = LSPLoss('gcr', w_loss_gs=1, w_loss_sg=0.1, d=0.1)"
   ]
  },
  {
   "cell_type": "code",
   "execution_count": 321,
   "metadata": {},
   "outputs": [],
   "source": [
    "import matplotlib.pyplot as plt"
   ]
  },
  {
   "cell_type": "code",
   "execution_count": 326,
   "metadata": {},
   "outputs": [
    {
     "name": "stdout",
     "output_type": "stream",
     "text": [
      "0.0019248614553362131\n"
     ]
    },
    {
     "data": {
      "image/png": "[encoded data removed]",
      "text/plain": [
       "<Figure size 432x288 with 1 Axes>"
      ]
     },
     "metadata": {
      "needs_background": "light"
     },
     "output_type": "display_data"
    }
   ],
   "source": [
    "ret = loss_fn.forward(G, len_G, S, len_S)\n",
    "total_loss = F.mse_loss(ret.S_pi, Y) + ret.loss\n",
    "opt.zero_grad()\n",
    "total_loss.backward()\n",
    "print(ret.loss.item())\n",
    "opt.step()\n",
    "plt.xlim(-3, 3)\n",
    "plt.ylim(-3, 3)\n",
    "with torch.no_grad():\n",
    "    plt.scatter(S[:, 0], S[:, 1])\n",
    "    plt.scatter(G[:, 0], G[:, 1], c='red')\n",
    "    plt.scatter(Y[:, 0], Y[:, 1], c='green')"
   ]
  },
  {
   "cell_type": "code",
   "execution_count": null,
   "metadata": {},
   "outputs": [],
   "source": []
  }
 ],
 "metadata": {
  "interpreter": {
   "hash": "911026d04c504ad5e0c4c11f5deabc0fa44aa59b5237d77193e02811cb4f84ca"
  },
  "kernelspec": {
   "display_name": "Python 3.6.9 ('myenv')",
   "language": "python",
   "name": "python3"
  },
  "language_info": {
   "codemirror_mode": {
    "name": "ipython",
    "version": 3
   },
   "file_extension": ".py",
   "mimetype": "text/x-python",
   "name": "python",
   "nbconvert_exporter": "python",
   "pygments_lexer": "ipython3",
   "version": "3.6.9"
  },
  "orig_nbformat": 4
 },
 "nbformat": 4,
 "nbformat_minor": 2
}
